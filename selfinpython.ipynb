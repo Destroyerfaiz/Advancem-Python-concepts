{
 "cells": [
  {
   "cell_type": "markdown",
   "metadata": {},
   "source": [
    "# self is a keyword by which user can change the value and get the value for different objects\n",
    "\n",
    "# self is used as to call the same object \n",
    "\n",
    "# self called object itself\n",
    "\n"
   ]
  },
  {
   "cell_type": "code",
   "execution_count": 2,
   "metadata": {},
   "outputs": [],
   "source": [
    "class comp:\n",
    "    \n",
    "    def __init__(self):\n",
    "        self.v1=10\n",
    "        self.v2=20\n",
    "    \n",
    "    def update(self,b,c):\n",
    "        self.v1=b\n",
    "        self.v2=c\n",
    "        \n",
    "        "
   ]
  },
  {
   "cell_type": "code",
   "execution_count": 17,
   "metadata": {},
   "outputs": [],
   "source": [
    "c1=comp()\n",
    "c2=comp()"
   ]
  },
  {
   "cell_type": "code",
   "execution_count": 19,
   "metadata": {},
   "outputs": [
    {
     "name": "stdout",
     "output_type": "stream",
     "text": [
      "object-1  10 20\n",
      "object-2  20 30\n"
     ]
    }
   ],
   "source": [
    "c2.update(20,30)\n",
    "\n",
    "print(\"object-1 \",c1.v1,c1.v2)\n",
    "print(\"object-2 \",c2.v1,c2.v2)"
   ]
  },
  {
   "cell_type": "code",
   "execution_count": null,
   "metadata": {},
   "outputs": [],
   "source": [
    "#self is inbuit method which will call itself when we create an object and call any function from the class"
   ]
  }
 ],
 "metadata": {
  "kernelspec": {
   "display_name": "Python 3",
   "language": "python",
   "name": "python3"
  },
  "language_info": {
   "codemirror_mode": {
    "name": "ipython",
    "version": 3
   },
   "file_extension": ".py",
   "mimetype": "text/x-python",
   "name": "python",
   "nbconvert_exporter": "python",
   "pygments_lexer": "ipython3",
   "version": "3.6.5"
  }
 },
 "nbformat": 4,
 "nbformat_minor": 2
}
