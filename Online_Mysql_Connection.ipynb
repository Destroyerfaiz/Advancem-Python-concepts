{
  "nbformat": 4,
  "nbformat_minor": 0,
  "metadata": {
    "colab": {
      "name": "Online Mysql Connection",
      "provenance": [],
      "authorship_tag": "ABX9TyPJZqSoaYuCjDYUr2A/RXwY",
      "include_colab_link": true
    },
    "kernelspec": {
      "name": "python3",
      "display_name": "Python 3"
    }
  },
  "cells": [
    {
      "cell_type": "markdown",
      "metadata": {
        "id": "view-in-github",
        "colab_type": "text"
      },
      "source": [
        "<a href=\"https://colab.research.google.com/github/Faizgeeky/Advance-Python-concepts/blob/master/Online_Mysql_Connection.ipynb\" target=\"_parent\"><img src=\"https://colab.research.google.com/assets/colab-badge.svg\" alt=\"Open In Colab\"/></a>"
      ]
    },
    {
      "cell_type": "code",
      "metadata": {
        "id": "RKNU0DxNpMsP",
        "outputId": "db8dc355-bb7a-4cda-921b-efce228a2028",
        "colab": {
          "base_uri": "https://localhost:8080/"
        }
      },
      "source": [
        "# this programm is for Google colab and free Mysql connection Setup\n",
        "\n",
        "\n",
        "# step 1 install the Mysql Connector\n",
        "!pip install mysql-connector-python\n"
      ],
      "execution_count": 2,
      "outputs": [
        {
          "output_type": "stream",
          "text": [
            "Collecting mysql-connector-python\n",
            "\u001b[?25l  Downloading https://files.pythonhosted.org/packages/ce/1d/378f92f45fb98d7e033f6a94b0600b8ae496e67ba411b992f536784a3d0d/mysql_connector_python-8.0.21-cp36-cp36m-manylinux1_x86_64.whl (15.8MB)\n",
            "\u001b[K     |████████████████████████████████| 15.8MB 309kB/s \n",
            "\u001b[?25hRequirement already satisfied: protobuf>=3.0.0 in /usr/local/lib/python3.6/dist-packages (from mysql-connector-python) (3.12.4)\n",
            "Requirement already satisfied: six>=1.9 in /usr/local/lib/python3.6/dist-packages (from protobuf>=3.0.0->mysql-connector-python) (1.15.0)\n",
            "Requirement already satisfied: setuptools in /usr/local/lib/python3.6/dist-packages (from protobuf>=3.0.0->mysql-connector-python) (50.3.0)\n",
            "Installing collected packages: mysql-connector-python\n",
            "Successfully installed mysql-connector-python-8.0.21\n"
          ],
          "name": "stdout"
        }
      ]
    },
    {
      "cell_type": "code",
      "metadata": {
        "id": "4FilJYvxpZKL"
      },
      "source": [
        "#Step 2 importconnector\n",
        "import mysql.connector"
      ],
      "execution_count": 4,
      "outputs": []
    },
    {
      "cell_type": "code",
      "metadata": {
        "id": "LTWUj9YdqBHQ",
        "outputId": "e460ed9e-1a21-4df6-fb4c-59e620d2bcc0",
        "colab": {
          "base_uri": "https://localhost:8080/"
        }
      },
      "source": [
        "#step 3 Crete Account and Database on   -------- https://www.freemysqlhosting.net/ [Opt for free Account]\n",
        "\n",
        "#step 4 you will get connection credentials in Email\n",
        "\n",
        "\n",
        "#step 5 Coonect it using python connector  (fetch and inster data)\n",
        "\n",
        "import mysql.connector\n",
        "\n",
        "mydb = mysql.connector.connect(\n",
        "  host=\"sql12.freemysqlhosting.net\",\n",
        "  user=\"sql12369300\",\n",
        "  password=\"RXNqGMwTIL\",\n",
        "  database=\"sql12369300\"\n",
        ")\n",
        "mycursor = mydb.cursor()\n",
        "\n",
        "\n",
        "\n",
        "mycursor.execute(\"SELECT * FROM demo\")\n",
        "\n",
        "myresult = mycursor.fetchall()\n",
        "\n",
        "for x in myresult:\n",
        "  print(x)\n"
      ],
      "execution_count": 19,
      "outputs": [
        {
          "output_type": "stream",
          "text": [
            "(1, 'Faiz')\n"
          ],
          "name": "stdout"
        }
      ]
    },
    {
      "cell_type": "code",
      "metadata": {
        "id": "9Oz_giLVqWH6"
      },
      "source": [
        ""
      ],
      "execution_count": 18,
      "outputs": []
    },
    {
      "cell_type": "code",
      "metadata": {
        "id": "qY6P1u_2rE1I"
      },
      "source": [
        ""
      ],
      "execution_count": null,
      "outputs": []
    }
  ]
}