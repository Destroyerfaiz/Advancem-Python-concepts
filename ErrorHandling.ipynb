{
 "cells": [
  {
   "cell_type": "markdown",
   "metadata": {},
   "source": [
    "# Error handling\n",
    "## some time we have to print user friendly  messange when if error occur\n",
    "\n",
    "## there are mainly 3 types of error namely\n",
    "## 1.Logical\n",
    "## 2.Runtime\n",
    "## 3.complitime"
   ]
  },
  {
   "cell_type": "code",
   "execution_count": 9,
   "metadata": {},
   "outputs": [
    {
     "name": "stdout",
     "output_type": "stream",
     "text": [
      "Open connection\n",
      "Enter number a\n",
      "error--> invalid input\n",
      "close connection\n"
     ]
    }
   ],
   "source": [
    "#lets handle the error\n",
    "\n",
    "a= 10\n",
    "b=0\n",
    "\n",
    "try:\n",
    "    print('Open connection')\n",
    "    k = int(input('Enter number '))\n",
    "    print(k)\n",
    "    print(c)\n",
    "    \n",
    "    \n",
    "except ValueError as e:\n",
    "    print(\"error--> invalid input\")\n",
    "    \n",
    "except ZeroDivisionError as e:\n",
    "    print(\"error->\",e)\n",
    "    \n",
    "except Exception as e:\n",
    "    print(\"error--->\",e)\n",
    "\n",
    "finally :\n",
    "    print('close connection')\n",
    "    "
   ]
  },
  {
   "cell_type": "code",
   "execution_count": null,
   "metadata": {},
   "outputs": [],
   "source": []
  }
 ],
 "metadata": {
  "kernelspec": {
   "display_name": "Python 3",
   "language": "python",
   "name": "python3"
  },
  "language_info": {
   "codemirror_mode": {
    "name": "ipython",
    "version": 3
   },
   "file_extension": ".py",
   "mimetype": "text/x-python",
   "name": "python",
   "nbconvert_exporter": "python",
   "pygments_lexer": "ipython3",
   "version": "3.6.5"
  }
 },
 "nbformat": 4,
 "nbformat_minor": 2
}
