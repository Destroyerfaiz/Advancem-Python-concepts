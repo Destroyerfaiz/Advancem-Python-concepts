{
 "cells": [
  {
   "cell_type": "markdown",
   "metadata": {},
   "source": [
    "# Inheritance in pyhton ... It means when you use the functonality of any class to another class then it is said to be inheritance\n",
    "\n",
    "# there are 3 types Inheritance\n",
    "1.Primary level\n",
    "2.Multilevel\n",
    "3.Multiple\n",
    "\n"
   ]
  },
  {
   "cell_type": "markdown",
   "metadata": {},
   "source": [
    "# 1 Primary level Inheritance\n"
   ]
  },
  {
   "cell_type": "code",
   "execution_count": 24,
   "metadata": {},
   "outputs": [
    {
     "name": "stdout",
     "output_type": "stream",
     "text": [
      "in Son init\n",
      "In A init\n",
      "i am son\n",
      "Hey am 2nd func of Father\n",
      "None\n"
     ]
    }
   ],
   "source": [
    "class father:\n",
    "    def __init__(self):\n",
    "        print('In A init')\n",
    "        \n",
    "    def call(self):\n",
    "        pass\n",
    "        print('Hey am 2nd func of Father')\n",
    "\n",
    "        \n",
    "class son(father):\n",
    "    def __init__(self):\n",
    "        print('in Son init')\n",
    "        super().__init__()\n",
    "    \n",
    "    def call1(self):\n",
    "        print('i am son')\n",
    "        super().call()\n",
    "\n",
    "s1=son()\n",
    "\n",
    "print(s1.call1())\n",
    "\n"
   ]
  },
  {
   "cell_type": "markdown",
   "metadata": {},
   "source": [
    "# Multilevel Inheritence\n",
    "in  this type of inheritance when you inherit a into b and b into c class this it is called Multilevel inheritance"
   ]
  },
  {
   "cell_type": "code",
   "execution_count": 30,
   "metadata": {},
   "outputs": [
    {
     "name": "stdout",
     "output_type": "stream",
     "text": [
      "i am grand child\n",
      "in Son init\n",
      "In A init\n",
      "i am son\n",
      "Hey am 2nd func of Father\n",
      "2nd class None\n",
      "Hey am 2nd func of Father\n",
      "1st class None\n"
     ]
    }
   ],
   "source": [
    "class father:\n",
    "    def __init__(self):\n",
    "        print('In A init')\n",
    "        \n",
    "    def call(self):\n",
    "        pass\n",
    "        print('Hey am 2nd func of Father')\n",
    "\n",
    "        \n",
    "class son(father):\n",
    "    def __init__(self):\n",
    "        print('in Son init')\n",
    "        super().__init__()\n",
    "    \n",
    "    def call1(self):\n",
    "        print('i am son')\n",
    "        super().call()\n",
    "\n",
    "class grandchild(son):\n",
    "    def __init__(self):\n",
    "        print('i am grand child')\n",
    "        super().__init__()\n",
    "        \n",
    "\n",
    "if __name__=='__main__':\n",
    "    g1=grandchild()\n",
    "    print('2nd class',g1.call1())\n",
    "    print('1st class',g1.call())"
   ]
  },
  {
   "cell_type": "markdown",
   "metadata": {},
   "source": [
    "# Multiple Inheritance \n",
    "in multiple inheritance both a and b will ihnherit in c "
   ]
  },
  {
   "cell_type": "code",
   "execution_count": 35,
   "metadata": {},
   "outputs": [
    {
     "name": "stdout",
     "output_type": "stream",
     "text": [
      "i am grand child\n",
      "In A init\n",
      "i am son\n",
      "2nd class None\n",
      "Hey am 2nd func of Father\n",
      "1st class None\n"
     ]
    }
   ],
   "source": [
    "class father:\n",
    "    def __init__(self):\n",
    "        print('In A init')\n",
    "        \n",
    "    def call(self):\n",
    "        pass\n",
    "        print('Hey am 2nd func of Father')\n",
    "\n",
    "        \n",
    "class son():\n",
    "    def __init__(self):\n",
    "        print('in Son init')\n",
    "       \n",
    "    \n",
    "    def call1(self):\n",
    "        print('i am son')\n",
    "        \n",
    "        \n",
    "class grandchild(father,son):\n",
    "    def __init__(self):\n",
    "        print('i am grand child')\n",
    "        super().__init__()\n",
    "        \n",
    "if __name__=='__main__':\n",
    "    g1=grandchild()\n",
    "    print('2nd class',g1.call1())\n",
    "    print('1st class',g1.call())"
   ]
  },
  {
   "cell_type": "code",
   "execution_count": null,
   "metadata": {},
   "outputs": [],
   "source": []
  }
 ],
 "metadata": {
  "kernelspec": {
   "display_name": "Python 3",
   "language": "python",
   "name": "python3"
  },
  "language_info": {
   "codemirror_mode": {
    "name": "ipython",
    "version": 3
   },
   "file_extension": ".py",
   "mimetype": "text/x-python",
   "name": "python",
   "nbconvert_exporter": "python",
   "pygments_lexer": "ipython3",
   "version": "3.6.5"
  }
 },
 "nbformat": 4,
 "nbformat_minor": 2
}
