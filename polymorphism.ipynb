{
 "cells": [
  {
   "cell_type": "markdown",
   "metadata": {},
   "source": [
    "# Polymorphism means many form ...it means there are many form of one thing\n",
    "types of Polymorphism is \n",
    "\n",
    "Duck typing\n",
    "\n",
    "operator Overloading\n",
    "\n",
    "method overloading\n",
    "\n",
    "method overriding"
   ]
  },
  {
   "cell_type": "markdown",
   "metadata": {},
   "source": [
    "# Duck typing\n",
    "\n",
    "if you have an object which is call nomatter which object is called but it has the method to execute which are present in the class method\n",
    "\n",
    "\n"
   ]
  },
  {
   "cell_type": "code",
   "execution_count": 4,
   "metadata": {},
   "outputs": [
    {
     "name": "stdout",
     "output_type": "stream",
     "text": [
      "in main\n",
      "Dog is animal\n"
     ]
    }
   ],
   "source": [
    "class dog:\n",
    "    \n",
    "    def animal(self):\n",
    "        print('Dog is animal')\n",
    "        \n",
    "    def animal1(self):\n",
    "        print('It has many breed')\n",
    "        \n",
    "\n",
    "class cat:\n",
    "    \n",
    "    def animal(self):\n",
    "        print('cat is animal')\n",
    "\n",
    "call = dog()\n",
    "\n",
    "class main:\n",
    "    \n",
    "    def feature(self,a):\n",
    "        print('in main')\n",
    "        #####no mattere which object is called here but it must contain animal method in it.\n",
    "        a.animal()\n",
    "\n",
    "if __name__ ==\"__main__\":\n",
    "    m1=main()\n",
    "    m1.feature(call)\n",
    "\n"
   ]
  },
  {
   "cell_type": "markdown",
   "metadata": {},
   "source": [
    "# Operator Overloading\n",
    "\n"
   ]
  },
  {
   "cell_type": "code",
   "execution_count": 32,
   "metadata": {},
   "outputs": [
    {
     "name": "stdout",
     "output_type": "stream",
     "text": [
      "5\n",
      "108 114\n",
      "0 2\n",
      "s2 is top\n"
     ]
    }
   ],
   "source": [
    "class student:\n",
    "    \n",
    "    def __init__(self,m1,m2):\n",
    "        self.m1=m1\n",
    "        self.m2=m2\n",
    "        \n",
    "    def display(self):\n",
    "        print(self.m1)\n",
    "        print(self.m2)\n",
    "        \n",
    "    def __add__(self,other):\n",
    "        m1=self.m1+other.m1\n",
    "        m2=self.m2+other.m2\n",
    "        s3=student(m1,m2)\n",
    "        \n",
    "        return s3\n",
    "    \n",
    "    def __sub__(self,other):\n",
    "        m1=self.m1-other.m1\n",
    "        m2=self.m2-other.m2\n",
    "        s3=student(m1,m2)\n",
    "        \n",
    "        return s3\n",
    "    \n",
    "        \n",
    "        \n",
    "    def __gt__(self,other):\n",
    "        s1=self.m1+self.m2\n",
    "        s2=other.m1+other.m2\n",
    "        if s1>s2:\n",
    "            return True\n",
    "        else:\n",
    "            return False\n",
    "        \n",
    "    def __str__(self):\n",
    "        return '{} {}'.format(self.m1,self.m2)\n",
    "\n",
    "s1=student(54,56)\n",
    "s2=student(54,58)\n",
    "\n",
    "s3=s1+s2\n",
    "s4=s2-s1\n",
    "a=5\n",
    "print(a.__str__())\n",
    "\n",
    "print(s3.m1,s3.m2)\n",
    "print(s4.m1,s4.m2)\n",
    "#you can see here we cannot directly compare here right?\n",
    "# so that we have methods to definf for greater then\n",
    "#add,sub,mul,etc\n",
    "if s1>s2:\n",
    "    print('s1 is top')\n",
    "else:\n",
    "    print('s2 is top')"
   ]
  },
  {
   "cell_type": "markdown",
   "metadata": {},
   "source": [
    "# Method OverLoading\n",
    " \n",
    " the Method Overloading Concept is not supported by python but there is a way to use with it.\n",
    " "
   ]
  },
  {
   "cell_type": "code",
   "execution_count": 38,
   "metadata": {},
   "outputs": [
    {
     "name": "stdout",
     "output_type": "stream",
     "text": [
      "20\n",
      "55\n",
      "10\n"
     ]
    }
   ],
   "source": [
    "class calc:\n",
    "    \n",
    "    def add(self,a=None,b=None,c=None):\n",
    "        s=0\n",
    "        \n",
    "        if a!=None and b!=None and c!=None:\n",
    "            s= a+b+c\n",
    "            \n",
    "        elif a!=None and b!=None:\n",
    "            s=a+b\n",
    "            \n",
    "        else:\n",
    "            s=a\n",
    "        \n",
    "        return s\n",
    "    \n",
    "    \n",
    "c1=calc()\n",
    "\n",
    "print(c1.add(5,5,10))\n",
    "print(c1.add(5,50))\n",
    "print(c1.add(10))"
   ]
  },
  {
   "cell_type": "markdown",
   "metadata": {},
   "source": [
    "# Method Overiding\n",
    "\n",
    "it means when any class inherit the another class and if it contain same method the user can access method of who inherits the another class because it overide the method"
   ]
  },
  {
   "cell_type": "code",
   "execution_count": 45,
   "metadata": {},
   "outputs": [
    {
     "name": "stdout",
     "output_type": "stream",
     "text": [
      "Android\n",
      "None\n"
     ]
    }
   ],
   "source": [
    "class father:\n",
    "    def phone(self):\n",
    "        print('nokia')\n",
    "\n",
    "class son(father):\n",
    "    def phone(self):\n",
    "        print('Android')\n",
    "        \n",
    "    \n",
    "s1=son()\n",
    "print(s1.phone())"
   ]
  },
  {
   "cell_type": "code",
   "execution_count": null,
   "metadata": {},
   "outputs": [],
   "source": []
  }
 ],
 "metadata": {
  "kernelspec": {
   "display_name": "Python 3",
   "language": "python",
   "name": "python3"
  },
  "language_info": {
   "codemirror_mode": {
    "name": "ipython",
    "version": 3
   },
   "file_extension": ".py",
   "mimetype": "text/x-python",
   "name": "python",
   "nbconvert_exporter": "python",
   "pygments_lexer": "ipython3",
   "version": "3.6.5"
  }
 },
 "nbformat": 4,
 "nbformat_minor": 2
}
