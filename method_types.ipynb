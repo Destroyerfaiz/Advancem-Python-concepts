{
 "cells": [
  {
   "cell_type": "markdown",
   "metadata": {},
   "source": [
    "# there are three types of methods in python\n",
    "\n",
    "# 1. class method\n",
    "# 2. object method\n",
    "# 3. static method\n",
    "\n",
    "\n"
   ]
  },
  {
   "cell_type": "markdown",
   "metadata": {},
   "source": [
    "#####   Class method ###\n",
    "\n",
    "In class method the user are able to create the class and get the value from the class it is possible with the helpfull with the \n",
    "cls method\n",
    "\n",
    "we are using cls insted of self mehod\n",
    "\n",
    "Class method -->   decorator - @classmethod    method- cls\n",
    "\n",
    "eg\n",
    "\n",
    "@classmethod\n",
    "\n",
    "def update(cls):\n",
    "\n",
    "\n",
    "\n"
   ]
  },
  {
   "cell_type": "code",
   "execution_count": null,
   "metadata": {},
   "outputs": [],
   "source": [
    "#class \n",
    "\n",
    "# in the University result the school will remain same and are declared in class variable\n",
    "\n",
    "#after getting the marks now lets suppose i want to change the school but it is class variable so i will cahnge it for all the result \n",
    "# with cls\n",
    "\n",
    "class result:\n",
    "    school = 'GNU'\n",
    "    \n",
    "    # __init__ is our constructor\n",
    "    def __init__(self,m1,m2,m3):\n",
    "        self.m1=m1\n",
    "        self.m2=m2\n",
    "        self.m3=m3\n",
    "     \n",
    "    #mention decorator\n",
    "    @classmethod\n",
    "    def changeschool(cls):\n",
    "        cls.school='GTU'\n",
    "    \n",
    "    \n",
    "    def getResult(self):\n",
    "        print((self.m1 +self.m2+ self.m3)/3,self.school)\n",
    "        "
   ]
  },
  {
   "cell_type": "code",
   "execution_count": 11,
   "metadata": {},
   "outputs": [
    {
     "name": "stdout",
     "output_type": "stream",
     "text": [
      "43.0 GNU\n",
      "45.0 GTU\n",
      "43.0 GTU\n"
     ]
    }
   ],
   "source": [
    "# now lets generate the result of 2 stud\n",
    "  \n",
    "stud1=result(44,45,40)\n",
    "stud2=result(50,49,36)\n",
    "\n",
    "stud1.getResult()\n",
    "\n",
    "stud2.changeschool()\n",
    "stud2.getResult()\n",
    "stud1.getResult()\n",
    "# and bingo we did it, we change the school for everyone "
   ]
  },
  {
   "cell_type": "markdown",
   "metadata": {},
   "source": [
    "Object Method\n",
    "#  self is a keyword by which user can change the value and get the value for different objects\n",
    "\n",
    "# self is used as to call the same object \n",
    "\n",
    "# self called object itself\n"
   ]
  },
  {
   "cell_type": "code",
   "execution_count": null,
   "metadata": {},
   "outputs": [],
   "source": [
    "class comp:\n",
    "    \n",
    "    def __init__(self):\n",
    "        self.v1=10\n",
    "        self.v2=20\n",
    "    \n",
    "    def update(self,b,c):\n",
    "        self.v1=b\n",
    "        self.v2=c\n",
    "        \n",
    "        "
   ]
  },
  {
   "cell_type": "code",
   "execution_count": null,
   "metadata": {},
   "outputs": [],
   "source": [
    "c1=comp()\n",
    "c2=comp()\n",
    "c2.update(20,30)\n",
    "\n",
    "print(\"object-1 \",c1.v1,c1.v2)\n",
    "print(\"object-2 \",c2.v1,c2.v2)"
   ]
  },
  {
   "cell_type": "markdown",
   "metadata": {},
   "source": [
    "# static method \n",
    "\n",
    " staic method  --> decorator = @staticmethod \n",
    " \n",
    "it is used when we have to just execute the block of code without changing, passing and geting any value\n",
    "it will be static code\n",
    "\n",
    "example: \n",
    "         we have to just creta national animal function and simply describe it in the fun, all we need is static method no any passing parameters no values nothing..."
   ]
  },
  {
   "cell_type": "code",
   "execution_count": 2,
   "metadata": {},
   "outputs": [],
   "source": [
    "#example\n",
    "\n",
    "class Animal:\n",
    "    \n",
    "    def __init__(self,animal):\n",
    "        self.animal=animal\n",
    "        print(self.animal,' is gretest ')\n",
    "    \n",
    "    #lets describe the animal\n",
    "    @staticmethod\n",
    "    \n",
    "    def describe():\n",
    "        print('Tiger is our national animal')\n"
   ]
  },
  {
   "cell_type": "code",
   "execution_count": 6,
   "metadata": {},
   "outputs": [
    {
     "name": "stdout",
     "output_type": "stream",
     "text": [
      "enter elementbjbvs\n",
      "enter write input\n",
      "enter elementjkns'\n",
      "enter write input\n",
      "enter elementnkns\n",
      "enter write input\n",
      "enter elementTiger\n",
      "TIGER  is gretest \n",
      "Tiger is our national animal\n"
     ]
    }
   ],
   "source": [
    "#so this is the example of the static method   \n",
    "def para():    \n",
    "    animal= input('enter element')\n",
    "    animal=animal.upper()\n",
    "\n",
    "    if animal=='TIGER':\n",
    "        obj1=Animal(animal)\n",
    "        obj1.describe()\n",
    "    else:\n",
    "        print(\"enter write input\")\n",
    "        para()      \n",
    "para()    "
   ]
  },
  {
   "cell_type": "code",
   "execution_count": null,
   "metadata": {},
   "outputs": [],
   "source": [
    "\n"
   ]
  },
  {
   "cell_type": "code",
   "execution_count": null,
   "metadata": {},
   "outputs": [],
   "source": []
  },
  {
   "cell_type": "code",
   "execution_count": null,
   "metadata": {},
   "outputs": [],
   "source": []
  }
 ],
 "metadata": {
  "kernelspec": {
   "display_name": "Python 3",
   "language": "python",
   "name": "python3"
  },
  "language_info": {
   "codemirror_mode": {
    "name": "ipython",
    "version": 3
   },
   "file_extension": ".py",
   "mimetype": "text/x-python",
   "name": "python",
   "nbconvert_exporter": "python",
   "pygments_lexer": "ipython3",
   "version": "3.6.5"
  }
 },
 "nbformat": 4,
 "nbformat_minor": 2
}
